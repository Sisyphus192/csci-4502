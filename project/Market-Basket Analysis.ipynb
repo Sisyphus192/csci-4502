{
 "cells": [
  {
   "cell_type": "code",
   "execution_count": 1,
   "metadata": {},
   "outputs": [],
   "source": [
    "import pandas as pd\n",
    "import numpy as np\n",
    "from collections import Counter\n",
    "import math\n",
    "from progressbar import ProgressBar, AdaptiveETA, Percentage, Bar, RotatingMarker"
   ]
  },
  {
   "cell_type": "code",
   "execution_count": 2,
   "metadata": {},
   "outputs": [
    {
     "data": {
      "text/html": [
       "<div>\n",
       "<style scoped>\n",
       "    .dataframe tbody tr th:only-of-type {\n",
       "        vertical-align: middle;\n",
       "    }\n",
       "\n",
       "    .dataframe tbody tr th {\n",
       "        vertical-align: top;\n",
       "    }\n",
       "\n",
       "    .dataframe thead th {\n",
       "        text-align: right;\n",
       "    }\n",
       "</style>\n",
       "<table border=\"1\" class=\"dataframe\">\n",
       "  <thead>\n",
       "    <tr style=\"text-align: right;\">\n",
       "      <th></th>\n",
       "      <th>name</th>\n",
       "    </tr>\n",
       "    <tr>\n",
       "      <th>index</th>\n",
       "      <th></th>\n",
       "    </tr>\n",
       "  </thead>\n",
       "  <tbody>\n",
       "    <tr>\n",
       "      <td>rmK12Uau.ntP510KeImX506H6Mr6jTu</td>\n",
       "      <td>chicken breast halves</td>\n",
       "    </tr>\n",
       "    <tr>\n",
       "      <td>rmK12Uau.ntP510KeImX506H6Mr6jTu</td>\n",
       "      <td>butter</td>\n",
       "    </tr>\n",
       "    <tr>\n",
       "      <td>rmK12Uau.ntP510KeImX506H6Mr6jTu</td>\n",
       "      <td>condensed cream of chicken soup</td>\n",
       "    </tr>\n",
       "    <tr>\n",
       "      <td>rmK12Uau.ntP510KeImX506H6Mr6jTu</td>\n",
       "      <td>onion</td>\n",
       "    </tr>\n",
       "    <tr>\n",
       "      <td>rmK12Uau.ntP510KeImX506H6Mr6jTu</td>\n",
       "      <td>refrigerated biscuit dough</td>\n",
       "    </tr>\n",
       "    <tr>\n",
       "      <td>5ZpZE8hSVdPk2ZXo1mZTyoPWJRSCPSm</td>\n",
       "      <td>condensed cream of mushroom soup</td>\n",
       "    </tr>\n",
       "    <tr>\n",
       "      <td>5ZpZE8hSVdPk2ZXo1mZTyoPWJRSCPSm</td>\n",
       "      <td>dry onion soup mix</td>\n",
       "    </tr>\n",
       "    <tr>\n",
       "      <td>5ZpZE8hSVdPk2ZXo1mZTyoPWJRSCPSm</td>\n",
       "      <td>water</td>\n",
       "    </tr>\n",
       "    <tr>\n",
       "      <td>5ZpZE8hSVdPk2ZXo1mZTyoPWJRSCPSm</td>\n",
       "      <td>pot roast</td>\n",
       "    </tr>\n",
       "    <tr>\n",
       "      <td>clyYQv.CplpwJtjNaFGhx0VilNYqRxu</td>\n",
       "      <td>brown sugar</td>\n",
       "    </tr>\n",
       "  </tbody>\n",
       "</table>\n",
       "</div>"
      ],
      "text/plain": [
       "                                                             name\n",
       "index                                                            \n",
       "rmK12Uau.ntP510KeImX506H6Mr6jTu             chicken breast halves\n",
       "rmK12Uau.ntP510KeImX506H6Mr6jTu                            butter\n",
       "rmK12Uau.ntP510KeImX506H6Mr6jTu   condensed cream of chicken soup\n",
       "rmK12Uau.ntP510KeImX506H6Mr6jTu                             onion\n",
       "rmK12Uau.ntP510KeImX506H6Mr6jTu        refrigerated biscuit dough\n",
       "5ZpZE8hSVdPk2ZXo1mZTyoPWJRSCPSm  condensed cream of mushroom soup\n",
       "5ZpZE8hSVdPk2ZXo1mZTyoPWJRSCPSm                dry onion soup mix\n",
       "5ZpZE8hSVdPk2ZXo1mZTyoPWJRSCPSm                             water\n",
       "5ZpZE8hSVdPk2ZXo1mZTyoPWJRSCPSm                         pot roast\n",
       "clyYQv.CplpwJtjNaFGhx0VilNYqRxu                       brown sugar"
      ]
     },
     "execution_count": 2,
     "metadata": {},
     "output_type": "execute_result"
    }
   ],
   "source": [
    "df = pd.read_pickle('./data/basket_parsed.pickle')\n",
    "df = pd.DataFrame({'name': df})\n",
    "df.head(10)"
   ]
  },
  {
   "cell_type": "code",
   "execution_count": 3,
   "metadata": {},
   "outputs": [],
   "source": [
    "def generate_candidate_set(size, L):\n",
    "    candidate_set = set()\n",
    "    for i in range(len(L)):\n",
    "        for j in range(i+1, len(L)):\n",
    "            diff = L[i].difference(L[j])\n",
    "            if len(diff) == 1:\n",
    "                candidate_set.add(frozenset(L[i].union(L[j])))\n",
    "    return candidate_set\n",
    "\n",
    "def apriori(frame, support_per, tup_size):\n",
    "    candidate_sets = []\n",
    "    frequent_sets = []\n",
    "    thresh = math.floor(len(frame.groupby(level=0))*support_per)\n",
    "    \n",
    "    C1 = Counter()\n",
    "    for ind, basket in frame.groupby(level=0):\n",
    "        for item in basket.values:\n",
    "            C1[item[0]] += 1\n",
    "    \n",
    "    L1 = []\n",
    "    for item in C1.most_common():\n",
    "        if item[1] > thresh:\n",
    "            L1.append(set([item[0]]))\n",
    "    print(L1)\n",
    "    \n",
    "    C2 = Counter()\n",
    "    c2 = generate_candidate_set(2, L1)\n",
    "    widgets = ['Counting C2: ', Percentage(), ' ', Bar(marker=RotatingMarker()), ' ', AdaptiveETA()]\n",
    "    pbar = ProgressBar(widgets=widgets)\n",
    "    for ind, basket in pbar(frame.groupby(level=0)):\n",
    "        for c in c2:\n",
    "            if basket[\"name\"].isin(c).sum() == len(c):\n",
    "                C2[c] += 1\n",
    "    print(C2.most_common())"
   ]
  },
  {
   "cell_type": "code",
   "execution_count": 4,
   "metadata": {},
   "outputs": [
    {
     "name": "stdout",
     "output_type": "stream",
     "text": [
      "[{'salt'}, {'butter'}, {'white sugar'}, {'all-purpose flour'}, {'water'}, {'garlic'}, {'onion'}, {'eggs'}, {'olive oil'}, {'black pepper'}, {'milk'}, {'vanilla extract'}, {'egg'}, {'vegetable oil'}, {'brown sugar'}, {'cinnamon'}, {'baking powder'}, {''}, {'baking soda'}, {'lemon juice'}, {'salt and pepper'}, {'tomatoes'}, {'parsley'}, {'Parmesan cheese'}, {'garlic powder'}, {'Cheddar cheese'}, {'salt and ground black pepper'}, {\"confectioners' sugar\"}]\n"
     ]
    },
    {
     "name": "stderr",
     "output_type": "stream",
     "text": [
      "Counting C2: 100% ||||||||||||||||||||||||||||||||||||||||||||||| Time: 0:43:19\r"
     ]
    },
    {
     "name": "stdout",
     "output_type": "stream",
     "text": [
      "[(frozenset({'salt', 'all-purpose flour'}), 5168), (frozenset({'white sugar', 'salt'}), 4961), (frozenset({'salt', 'butter'}), 4598), (frozenset({'white sugar', 'all-purpose flour'}), 4226), (frozenset({'butter', 'all-purpose flour'}), 4114), (frozenset({'salt', 'black pepper'}), 3889), (frozenset({'white sugar', 'butter'}), 3825), (frozenset({'salt', 'eggs'}), 3772), (frozenset({'white sugar', 'eggs'}), 3581), (frozenset({'salt', 'water'}), 3555), (frozenset({'eggs', 'all-purpose flour'}), 3441), (frozenset({'white sugar', 'vanilla extract'}), 3438), (frozenset({'onion', 'garlic'}), 3143), (frozenset({'butter', 'eggs'}), 3127), (frozenset({'olive oil', 'garlic'}), 3103), (frozenset({'salt', 'garlic'}), 3089), (frozenset({'salt', 'vanilla extract'}), 3086), (frozenset({'white sugar', 'water'}), 3064), (frozenset({'onion', 'salt'}), 2907), (frozenset({'butter', 'vanilla extract'}), 2892), (frozenset({'vanilla extract', 'all-purpose flour'}), 2884), (frozenset({'milk', 'salt'}), 2769), (frozenset({'white sugar', 'baking soda'}), 2759), (frozenset({'salt', 'baking powder'}), 2758), (frozenset({'baking soda', 'all-purpose flour'}), 2734), (frozenset({'baking powder', 'all-purpose flour'}), 2728), (frozenset({'milk', 'butter'}), 2724), (frozenset({'water', 'butter'}), 2705), (frozenset({'salt', 'baking soda'}), 2647), (frozenset({'white sugar', 'baking powder'}), 2611), (frozenset({'salt', 'egg'}), 2537), (frozenset({'white sugar', 'milk'}), 2526), (frozenset({'milk', 'all-purpose flour'}), 2469), (frozenset({'vanilla extract', 'eggs'}), 2454), (frozenset({'salt', 'olive oil'}), 2438), (frozenset({'white sugar', 'cinnamon'}), 2420), (frozenset({'black pepper', 'garlic'}), 2413), (frozenset({'salt', 'vegetable oil'}), 2398), (frozenset({'salt', 'cinnamon'}), 2356), (frozenset({'water', 'all-purpose flour'}), 2348), (frozenset({'onion', 'butter'}), 2341), (frozenset({'brown sugar', 'salt'}), 2317), (frozenset({'onion', 'water'}), 2303), (frozenset({'water', 'garlic'}), 2302), (frozenset({'butter', 'garlic'}), 2283), (frozenset({'butter', 'egg'}), 2262), (frozenset({'white sugar', 'egg'}), 2242), (frozenset({'white sugar', 'brown sugar'}), 2217), (frozenset({'brown sugar', 'butter'}), 2216), (frozenset({'egg', 'all-purpose flour'}), 2211), (frozenset({'white sugar', 'vegetable oil'}), 2134), (frozenset({'black pepper', 'butter'}), 2122), (frozenset({'onion', 'black pepper'}), 2104), (frozenset({'butter', 'baking powder'}), 2090), (frozenset({'cinnamon', 'butter'}), 2086), (frozenset({'baking soda', 'butter'}), 2069), (frozenset({'onion', 'olive oil'}), 1999), (frozenset({'milk', 'eggs'}), 1951), (frozenset({'butter', 'olive oil'}), 1916), (frozenset({'black pepper', 'olive oil'}), 1874), (frozenset({'cinnamon', 'all-purpose flour'}), 1868), (frozenset({'brown sugar', 'all-purpose flour'}), 1851), (frozenset({'water', 'olive oil'}), 1843), (frozenset({'water', 'black pepper'}), 1841), (frozenset({'white sugar', 'garlic'}), 1825), (frozenset({'white sugar', \"confectioners' sugar\"}), 1821), (frozenset({'white sugar', 'olive oil'}), 1773), (frozenset({'baking powder', 'eggs'}), 1757), (frozenset({'baking soda', 'eggs'}), 1748), (frozenset({'vegetable oil', 'all-purpose flour'}), 1734), (frozenset({'baking soda', 'vanilla extract'}), 1717), (frozenset({'vegetable oil', 'water'}), 1715), (frozenset({'white sugar', 'black pepper'}), 1710), (frozenset({'white sugar', 'onion'}), 1676), (frozenset({'water', 'eggs'}), 1661), (frozenset({'', 'white sugar'}), 1609), (frozenset({'baking powder', 'vanilla extract'}), 1599), (frozenset({'', 'butter'}), 1594), (frozenset({'vegetable oil', 'butter'}), 1587), (frozenset({'white sugar', 'lemon juice'}), 1580), (frozenset({'brown sugar', 'vanilla extract'}), 1570), (frozenset({'water', 'vanilla extract'}), 1564), (frozenset({'milk', 'water'}), 1564), (frozenset({\"confectioners' sugar\", 'butter'}), 1563), (frozenset({'Parmesan cheese', 'butter'}), 1544), (frozenset({'milk', 'vanilla extract'}), 1543), (frozenset({'vanilla extract', 'egg'}), 1535), (frozenset({'Cheddar cheese', 'butter'}), 1531), (frozenset({'salt and pepper', 'butter'}), 1527), (frozenset({'lemon juice', 'butter'}), 1519), (frozenset({'water', 'egg'}), 1515), (frozenset({'water', 'cinnamon'}), 1504), (frozenset({'cinnamon', 'vanilla extract'}), 1500), (frozenset({'parsley', 'butter'}), 1493), (frozenset({'cinnamon', 'eggs'}), 1458), (frozenset({'salt and ground black pepper', 'butter'}), 1430), (frozenset({'salt', 'lemon juice'}), 1419), (frozenset({'tomatoes', 'garlic'}), 1410), (frozenset({'vegetable oil', 'eggs'}), 1393), (frozenset({'brown sugar', 'water'}), 1387), (frozenset({'salt', 'tomatoes'}), 1383), (frozenset({'garlic powder', 'butter'}), 1359), (frozenset({'white sugar', 'tomatoes'}), 1345), (frozenset({'salt', 'garlic powder'}), 1335), (frozenset({'onion', 'all-purpose flour'}), 1322), (frozenset({'black pepper', 'all-purpose flour'}), 1312), (frozenset({'parsley', 'salt'}), 1295), (frozenset({'milk', 'egg'}), 1288), (frozenset({'white sugar', 'garlic powder'}), 1263), (frozenset({\"confectioners' sugar\", 'all-purpose flour'}), 1263), (frozenset({'onion', 'tomatoes'}), 1248), (frozenset({'tomatoes', 'butter'}), 1248), (frozenset({'white sugar', 'salt and pepper'}), 1246), (frozenset({'white sugar', 'Parmesan cheese'}), 1246), (frozenset({'white sugar', 'parsley'}), 1241), (frozenset({'white sugar', 'Cheddar cheese'}), 1238), (frozenset({'salt', \"confectioners' sugar\"}), 1234), (frozenset({'water', 'tomatoes'}), 1232), (frozenset({'olive oil', 'all-purpose flour'}), 1226), (frozenset({'', 'salt'}), 1215), (frozenset({'parsley', 'garlic'}), 1210), (frozenset({'vegetable oil', 'garlic'}), 1205), (frozenset({'brown sugar', 'eggs'}), 1204), (frozenset({'baking soda', 'baking powder'}), 1204), (frozenset({'white sugar', 'salt and ground black pepper'}), 1192), (frozenset({'', 'water'}), 1190), (frozenset({'cinnamon', 'baking soda'}), 1189), (frozenset({'onion', 'vegetable oil'}), 1187), (frozenset({'milk', 'baking powder'}), 1187), (frozenset({'garlic', 'all-purpose flour'}), 1177), (frozenset({'brown sugar', 'cinnamon'}), 1175), (frozenset({'tomatoes', 'olive oil'}), 1173), (frozenset({'baking powder', 'egg'}), 1164), (frozenset({'water', 'baking soda'}), 1148), (frozenset({'brown sugar', 'baking soda'}), 1144), (frozenset({'water', 'lemon juice'}), 1140), (frozenset({'salt', 'Parmesan cheese'}), 1111), (frozenset({'water', 'baking powder'}), 1100), (frozenset({'brown sugar', 'egg'}), 1098), (frozenset({'salt and ground black pepper', 'olive oil'}), 1087), (frozenset({'baking soda', 'egg'}), 1087), (frozenset({'Parmesan cheese', 'garlic'}), 1084), (frozenset({'cinnamon', 'egg'}), 1080), (frozenset({'salt and pepper', 'garlic'}), 1079), (frozenset({'onion', 'milk'}), 1075), (frozenset({'salt and pepper', 'water'}), 1071), (frozenset({'salt', 'Cheddar cheese'}), 1070), (frozenset({'Parmesan cheese', 'olive oil'}), 1061), (frozenset({'salt and ground black pepper', 'garlic'}), 1057), (frozenset({'parsley', 'olive oil'}), 1052), (frozenset({'parsley', 'water'}), 1045), (frozenset({'salt and pepper', 'olive oil'}), 1039), (frozenset({'water', 'salt and ground black pepper'}), 1032), (frozenset({'onion', 'salt and pepper'}), 1019), (frozenset({\"confectioners' sugar\", 'water'}), 1013), (frozenset({'milk', 'cinnamon'}), 1011), (frozenset({'garlic powder', 'water'}), 995), (frozenset({\"confectioners' sugar\", 'vanilla extract'}), 967), (frozenset({'lemon juice', 'olive oil'}), 966), (frozenset({'cinnamon', 'baking powder'}), 960), (frozenset({'garlic powder', 'black pepper'}), 957), (frozenset({'water', 'Parmesan cheese'}), 956), (frozenset({'egg', 'olive oil'}), 950), (frozenset({'onion', 'parsley'}), 948), (frozenset({'water', 'Cheddar cheese'}), 939), (frozenset({'vegetable oil', 'egg'}), 932), (frozenset({'vegetable oil', 'black pepper'}), 931), (frozenset({'', 'all-purpose flour'}), 927), (frozenset({'milk', 'black pepper'}), 921), (frozenset({'lemon juice', 'garlic'}), 899), (frozenset({'milk', 'vegetable oil'}), 882), (frozenset({'parsley', 'black pepper'}), 879), (frozenset({'vegetable oil', 'vanilla extract'}), 872), (frozenset({'milk', 'brown sugar'}), 851), (frozenset({'onion', 'Cheddar cheese'}), 846), (frozenset({'onion', 'eggs'}), 843), (frozenset({'milk', 'olive oil'}), 841), (frozenset({'onion', 'egg'}), 839), (frozenset({'onion', 'salt and ground black pepper'}), 832), (frozenset({\"confectioners' sugar\", 'eggs'}), 831), (frozenset({'egg', 'garlic'}), 825), (frozenset({'black pepper', 'egg'}), 822), (frozenset({'milk', 'Cheddar cheese'}), 806), (frozenset({'lemon juice', 'all-purpose flour'}), 799), (frozenset({'Cheddar cheese', 'all-purpose flour'}), 790), (frozenset({'salt and pepper', 'all-purpose flour'}), 789), (frozenset({'garlic powder', 'olive oil'}), 780), (frozenset({'brown sugar', 'baking powder'}), 777), (frozenset({'milk', 'garlic'}), 775), (frozenset({'vegetable oil', 'cinnamon'}), 774), (frozenset({'black pepper', 'eggs'}), 773), (frozenset({'parsley', 'all-purpose flour'}), 767), (frozenset({'', 'olive oil'}), 762), (frozenset({'black pepper', 'tomatoes'}), 761), (frozenset({'olive oil', 'eggs'}), 752), (frozenset({'', 'vanilla extract'}), 738), (frozenset({'vanilla extract', 'olive oil'}), 736), (frozenset({'milk', \"confectioners' sugar\"}), 732), (frozenset({'cinnamon', 'olive oil'}), 730), (frozenset({'brown sugar', 'garlic'}), 729), (frozenset({'Parmesan cheese', 'all-purpose flour'}), 724), (frozenset({'', 'milk'}), 717), (frozenset({'', 'garlic'}), 716), (frozenset({'brown sugar', 'olive oil'}), 712), (frozenset({'vegetable oil', 'baking powder'}), 712), (frozenset({\"confectioners' sugar\", 'egg'}), 712), (frozenset({'vegetable oil', 'baking soda'}), 708), (frozenset({'garlic powder', 'all-purpose flour'}), 701), (frozenset({'black pepper', 'Parmesan cheese'}), 701), (frozenset({'salt', 'salt and ground black pepper'}), 697), (frozenset({'milk', 'baking soda'}), 696), (frozenset({'', 'egg'}), 685), (frozenset({'egg', 'eggs'}), 678), (frozenset({'salt and ground black pepper', 'all-purpose flour'}), 675), (frozenset({'onion', 'garlic powder'}), 672), (frozenset({'salt', 'salt and pepper'}), 665), (frozenset({'black pepper', 'lemon juice'}), 662), (frozenset({'onion', 'Parmesan cheese'}), 655), (frozenset({'brown sugar', 'vegetable oil'}), 636), (frozenset({'tomatoes', 'all-purpose flour'}), 623), (frozenset({'brown sugar', 'black pepper'}), 623), (frozenset({'onion', 'brown sugar'}), 616), (frozenset({'eggs', 'garlic'}), 615), (frozenset({'Cheddar cheese', 'olive oil'}), 603), (frozenset({'vegetable oil', 'olive oil'}), 600), (frozenset({'Parmesan cheese', 'egg'}), 596), (frozenset({'', 'onion'}), 595), (frozenset({'', 'eggs'}), 577), (frozenset({'lemon juice', 'egg'}), 577), (frozenset({'', 'black pepper'}), 564), (frozenset({'cinnamon', 'garlic'}), 559), (frozenset({\"confectioners' sugar\", 'cinnamon'}), 558), (frozenset({'parsley', 'egg'}), 558), (frozenset({'', 'vegetable oil'}), 555), (frozenset({'milk', 'Parmesan cheese'}), 544), (frozenset({'lemon juice', 'vanilla extract'}), 543), (frozenset({'garlic powder', 'egg'}), 535), (frozenset({'Cheddar cheese', 'egg'}), 534), (frozenset({'Cheddar cheese', 'garlic'}), 533), (frozenset({'milk', 'salt and pepper'}), 532), (frozenset({'Cheddar cheese', 'eggs'}), 517), (frozenset({'salt and pepper', 'egg'}), 517), (frozenset({'black pepper', 'Cheddar cheese'}), 515), (frozenset({\"confectioners' sugar\", 'olive oil'}), 506), (frozenset({'vanilla extract', 'garlic'}), 498), (frozenset({'salt and ground black pepper', 'egg'}), 498), (frozenset({'vegetable oil', \"confectioners' sugar\"}), 489), (frozenset({\"confectioners' sugar\", 'baking powder'}), 486), (frozenset({'black pepper', 'cinnamon'}), 485), (frozenset({'onion', 'lemon juice'}), 477), (frozenset({'', 'cinnamon'}), 475), (frozenset({'', 'brown sugar'}), 475), (frozenset({\"confectioners' sugar\", 'baking soda'}), 474), (frozenset({'milk', 'parsley'}), 473), (frozenset({'vegetable oil', 'tomatoes'}), 468), (frozenset({'onion', 'cinnamon'}), 464), (frozenset({'lemon juice', 'cinnamon'}), 461), (frozenset({'tomatoes', 'egg'}), 459), (frozenset({'milk', 'lemon juice'}), 459), (frozenset({'vegetable oil', 'garlic powder'}), 445), (frozenset({'parsley', 'Parmesan cheese'}), 441), (frozenset({'baking powder', 'olive oil'}), 438), (frozenset({'black pepper', 'vanilla extract'}), 438), (frozenset({'Parmesan cheese', 'eggs'}), 434), (frozenset({'milk', 'salt and ground black pepper'}), 433), (frozenset({'garlic powder', 'garlic'}), 431), (frozenset({'brown sugar', \"confectioners' sugar\"}), 430), (frozenset({'baking soda', 'olive oil'}), 425), (frozenset({'milk', 'garlic powder'}), 422), (frozenset({'vegetable oil', 'salt and pepper'}), 419), (frozenset({'brown sugar', 'lemon juice'}), 413), (frozenset({'Parmesan cheese', 'vanilla extract'}), 410), (frozenset({'onion', 'vanilla extract'}), 409), (frozenset({'salt and pepper', 'tomatoes'}), 409), (frozenset({'vegetable oil', 'lemon juice'}), 409), (frozenset({'lemon juice', 'eggs'}), 405), (frozenset({'', \"confectioners' sugar\"}), 392), (frozenset({'Cheddar cheese', 'vanilla extract'}), 379), (frozenset({'parsley', 'tomatoes'}), 376), (frozenset({'parsley', 'lemon juice'}), 376), (frozenset({'tomatoes', 'vanilla extract'}), 372), (frozenset({'parsley', 'vegetable oil'}), 368), (frozenset({'milk', 'tomatoes'}), 368), (frozenset({'parsley', 'salt and pepper'}), 362), (frozenset({'parsley', 'vanilla extract'}), 361), (frozenset({'tomatoes', 'Parmesan cheese'}), 360), (frozenset({'parsley', 'eggs'}), 360), (frozenset({'garlic powder', 'vanilla extract'}), 357), (frozenset({'salt and pepper', 'vanilla extract'}), 356), (frozenset({'salt and pepper', 'eggs'}), 353), (frozenset({'brown sugar', 'garlic powder'}), 349), (frozenset({'salt and pepper', 'Parmesan cheese'}), 349), (frozenset({'vegetable oil', 'Cheddar cheese'}), 349), (frozenset({'salt and ground black pepper', 'vanilla extract'}), 343), (frozenset({'garlic powder', 'Parmesan cheese'}), 338), (frozenset({'vegetable oil', 'salt and ground black pepper'}), 335), (frozenset({'', 'lemon juice'}), 334), (frozenset({'', 'Parmesan cheese'}), 333), (frozenset({'salt and ground black pepper', 'eggs'}), 332), (frozenset({'', 'Cheddar cheese'}), 331), (frozenset({'', 'tomatoes'}), 327), (frozenset({'tomatoes', 'cinnamon'}), 325), (frozenset({'vegetable oil', 'Parmesan cheese'}), 325), (frozenset({'salt and ground black pepper', 'Parmesan cheese'}), 319), (frozenset({'', 'garlic powder'}), 318), (frozenset({'tomatoes', 'salt and ground black pepper'}), 301), (frozenset({'Parmesan cheese', 'cinnamon'}), 298), (frozenset({'', 'salt and pepper'}), 295), (frozenset({'salt and pepper', 'Cheddar cheese'}), 294), (frozenset({\"confectioners' sugar\", 'garlic'}), 292), (frozenset({'', 'parsley'}), 292), (frozenset({'parsley', 'garlic powder'}), 291), (frozenset({'garlic powder', 'eggs'}), 284), (frozenset({'tomatoes', 'Cheddar cheese'}), 282), (frozenset({'Parmesan cheese', 'Cheddar cheese'}), 282), (frozenset({'', 'salt and ground black pepper'}), 281), (frozenset({'cinnamon', 'Cheddar cheese'}), 278), (frozenset({'garlic powder', 'cinnamon'}), 278), (frozenset({'parsley', 'cinnamon'}), 276), (frozenset({'salt and pepper', 'cinnamon'}), 274), (frozenset({'salt and pepper', 'lemon juice'}), 272), (frozenset({'salt and ground black pepper', 'cinnamon'}), 269), (frozenset({'salt and pepper', 'garlic powder'}), 267), (frozenset({'lemon juice', 'Parmesan cheese'}), 267), (frozenset({'brown sugar', 'tomatoes'}), 265), (frozenset({'brown sugar', 'salt and pepper'}), 265), (frozenset({'', 'baking soda'}), 260), (frozenset({'', 'baking powder'}), 259), (frozenset({'parsley', 'salt and ground black pepper'}), 257), (frozenset({'brown sugar', 'Parmesan cheese'}), 256), (frozenset({\"confectioners' sugar\", 'lemon juice'}), 249), (frozenset({'garlic powder', 'tomatoes'}), 246), (frozenset({'lemon juice', 'tomatoes'}), 244), (frozenset({'brown sugar', 'salt and ground black pepper'}), 241), (frozenset({'garlic powder', 'Cheddar cheese'}), 240), (frozenset({'salt and ground black pepper', 'Cheddar cheese'}), 239), (frozenset({'brown sugar', 'parsley'}), 238), (frozenset({'brown sugar', 'Cheddar cheese'}), 231), (frozenset({\"confectioners' sugar\", 'black pepper'}), 230), (frozenset({'garlic powder', 'salt and ground black pepper'}), 225), (frozenset({'tomatoes', 'eggs'}), 224), (frozenset({'garlic powder', 'lemon juice'}), 222), (frozenset({'lemon juice', 'salt and ground black pepper'}), 220), (frozenset({'baking powder', 'garlic'}), 216), (frozenset({'black pepper', 'salt and ground black pepper'}), 214), (frozenset({\"confectioners' sugar\", 'Parmesan cheese'}), 207), (frozenset({'parsley', 'Cheddar cheese'}), 204), (frozenset({'onion', \"confectioners' sugar\"}), 203), (frozenset({'baking soda', 'garlic'}), 202), (frozenset({'salt and pepper', 'black pepper'}), 196), (frozenset({'lemon juice', 'baking powder'}), 184), (frozenset({'black pepper', 'baking powder'}), 183), (frozenset({'lemon juice', 'Cheddar cheese'}), 179), (frozenset({\"confectioners' sugar\", 'Cheddar cheese'}), 176), (frozenset({\"confectioners' sugar\", 'tomatoes'}), 168), (frozenset({'parsley', \"confectioners' sugar\"}), 157), (frozenset({'lemon juice', 'baking soda'}), 155), (frozenset({'onion', 'baking powder'}), 155), (frozenset({'garlic powder', \"confectioners' sugar\"}), 155), (frozenset({'salt and pepper', \"confectioners' sugar\"}), 151), (frozenset({'black pepper', 'baking soda'}), 144), (frozenset({\"confectioners' sugar\", 'salt and ground black pepper'}), 138), (frozenset({'Cheddar cheese', 'baking powder'}), 119), (frozenset({'onion', 'baking soda'}), 115), (frozenset({'Parmesan cheese', 'baking powder'}), 113), (frozenset({'Parmesan cheese', 'baking soda'}), 107), (frozenset({'baking soda', 'Cheddar cheese'}), 79), (frozenset({'parsley', 'baking powder'}), 75), (frozenset({'tomatoes', 'baking soda'}), 68), (frozenset({'salt and pepper', 'salt and ground black pepper'}), 67), (frozenset({'tomatoes', 'baking powder'}), 66), (frozenset({'parsley', 'baking soda'}), 57), (frozenset({'garlic powder', 'baking powder'}), 57), (frozenset({'garlic powder', 'baking soda'}), 53), (frozenset({'salt and pepper', 'baking powder'}), 51), (frozenset({'salt and pepper', 'baking soda'}), 47), (frozenset({'salt and ground black pepper', 'baking powder'}), 43), (frozenset({'salt and ground black pepper', 'baking soda'}), 33)]\n"
     ]
    },
    {
     "name": "stderr",
     "output_type": "stream",
     "text": [
      "\n"
     ]
    }
   ],
   "source": [
    "apriori(df, 0.05, 2)"
   ]
  },
  {
   "cell_type": "code",
   "execution_count": 12,
   "metadata": {},
   "outputs": [
    {
     "name": "stdout",
     "output_type": "stream",
     "text": [
      "('salt', 14113)\n"
     ]
    }
   ],
   "source": [
    "C1 = Counter()\n",
    "support_threshold = math.floor(len(df.groupby(level=0))/100)\n",
    "for ind, basket in df.groupby(level=0):\n",
    "    for item in basket.values:\n",
    "        C1[item[0]] += 1\n",
    "print(C1.most_common()[0])"
   ]
  },
  {
   "cell_type": "code",
   "execution_count": 7,
   "metadata": {},
   "outputs": [
    {
     "name": "stdout",
     "output_type": "stream",
     "text": [
      "13004\n",
      "14\n",
      "395\n",
      "['butter', 'all-purpose flour', 'olive oil', 'water', 'beef', 'vegetable oil', 'white sugar', 'eggs', 'potatoes', 'cooking spray', 'bacon', '', 'cream cheese', 'milk']\n",
      "('chicken breast halves', 392)\n"
     ]
    }
   ],
   "source": [
    "L1 = []\n",
    "print(len(np.unique(df[\"name\"])))\n",
    "for item in C1.most_common():\n",
    "    if item[1] > support_threshold:\n",
    "        L1.append(item[0])\n",
    "print(len(L1))\n",
    "print(support_threshold)\n",
    "print(L1)\n",
    "print(C1.most_common()[14])"
   ]
  },
  {
   "cell_type": "code",
   "execution_count": null,
   "metadata": {},
   "outputs": [],
   "source": []
  }
 ],
 "metadata": {
  "kernelspec": {
   "display_name": "Python 3",
   "language": "python",
   "name": "python3"
  },
  "language_info": {
   "codemirror_mode": {
    "name": "ipython",
    "version": 3
   },
   "file_extension": ".py",
   "mimetype": "text/x-python",
   "name": "python",
   "nbconvert_exporter": "python",
   "pygments_lexer": "ipython3",
   "version": "3.7.3"
  }
 },
 "nbformat": 4,
 "nbformat_minor": 2
}
