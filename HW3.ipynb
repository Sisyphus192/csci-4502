{
 "cells": [
  {
   "cell_type": "code",
   "execution_count": 177,
   "metadata": {},
   "outputs": [
    {
     "data": {
      "text/html": [
       "<div>\n",
       "<style scoped>\n",
       "    .dataframe tbody tr th:only-of-type {\n",
       "        vertical-align: middle;\n",
       "    }\n",
       "\n",
       "    .dataframe tbody tr th {\n",
       "        vertical-align: top;\n",
       "    }\n",
       "\n",
       "    .dataframe thead th {\n",
       "        text-align: right;\n",
       "    }\n",
       "</style>\n",
       "<table border=\"1\" class=\"dataframe\">\n",
       "  <thead>\n",
       "    <tr style=\"text-align: right;\">\n",
       "      <th></th>\n",
       "      <th>Weather Condition</th>\n",
       "      <th>Driver's Condition</th>\n",
       "      <th>Traffic Violation</th>\n",
       "      <th>Seat Belt</th>\n",
       "      <th>Crash Severity</th>\n",
       "    </tr>\n",
       "  </thead>\n",
       "  <tbody>\n",
       "    <tr>\n",
       "      <td>0</td>\n",
       "      <td>Bad</td>\n",
       "      <td>Sober</td>\n",
       "      <td>None</td>\n",
       "      <td>Yes</td>\n",
       "      <td>Minor</td>\n",
       "    </tr>\n",
       "    <tr>\n",
       "      <td>1</td>\n",
       "      <td>Good</td>\n",
       "      <td>Sober</td>\n",
       "      <td>Disobey stop sign</td>\n",
       "      <td>Yes</td>\n",
       "      <td>Minor</td>\n",
       "    </tr>\n",
       "    <tr>\n",
       "      <td>2</td>\n",
       "      <td>Bad</td>\n",
       "      <td>Sober</td>\n",
       "      <td>Disobey stop sign</td>\n",
       "      <td>Yes</td>\n",
       "      <td>Minor</td>\n",
       "    </tr>\n",
       "    <tr>\n",
       "      <td>3</td>\n",
       "      <td>Good</td>\n",
       "      <td>Alcohol-impaired</td>\n",
       "      <td>Exceed speed limit</td>\n",
       "      <td>No</td>\n",
       "      <td>Major</td>\n",
       "    </tr>\n",
       "    <tr>\n",
       "      <td>4</td>\n",
       "      <td>Bad</td>\n",
       "      <td>Sober</td>\n",
       "      <td>Disobey traffic signal</td>\n",
       "      <td>No</td>\n",
       "      <td>Major</td>\n",
       "    </tr>\n",
       "    <tr>\n",
       "      <td>5</td>\n",
       "      <td>Good</td>\n",
       "      <td>Alcohol-impaired</td>\n",
       "      <td>Disobey stop sign</td>\n",
       "      <td>Yes</td>\n",
       "      <td>Minor</td>\n",
       "    </tr>\n",
       "    <tr>\n",
       "      <td>6</td>\n",
       "      <td>Good</td>\n",
       "      <td>Alcohol-impaired</td>\n",
       "      <td>Exceed speed limit</td>\n",
       "      <td>Yes</td>\n",
       "      <td>Major</td>\n",
       "    </tr>\n",
       "    <tr>\n",
       "      <td>7</td>\n",
       "      <td>Bad</td>\n",
       "      <td>Alcohol-impaired</td>\n",
       "      <td>None</td>\n",
       "      <td>Yes</td>\n",
       "      <td>Major</td>\n",
       "    </tr>\n",
       "    <tr>\n",
       "      <td>8</td>\n",
       "      <td>Good</td>\n",
       "      <td>Sober</td>\n",
       "      <td>Disobey traffic signal</td>\n",
       "      <td>Yes</td>\n",
       "      <td>Major</td>\n",
       "    </tr>\n",
       "    <tr>\n",
       "      <td>9</td>\n",
       "      <td>Good</td>\n",
       "      <td>Alcohol-impaired</td>\n",
       "      <td>None</td>\n",
       "      <td>No</td>\n",
       "      <td>Major</td>\n",
       "    </tr>\n",
       "    <tr>\n",
       "      <td>10</td>\n",
       "      <td>Bad</td>\n",
       "      <td>Sober</td>\n",
       "      <td>Disobey traffic signal</td>\n",
       "      <td>No</td>\n",
       "      <td>Major</td>\n",
       "    </tr>\n",
       "    <tr>\n",
       "      <td>11</td>\n",
       "      <td>Good</td>\n",
       "      <td>Sober</td>\n",
       "      <td>Exceed speed limit</td>\n",
       "      <td>Yes</td>\n",
       "      <td>Major</td>\n",
       "    </tr>\n",
       "  </tbody>\n",
       "</table>\n",
       "</div>"
      ],
      "text/plain": [
       "   Weather Condition Driver's Condition       Traffic Violation Seat Belt  \\\n",
       "0                Bad              Sober                    None       Yes   \n",
       "1               Good              Sober       Disobey stop sign       Yes   \n",
       "2                Bad              Sober       Disobey stop sign       Yes   \n",
       "3               Good   Alcohol-impaired      Exceed speed limit        No   \n",
       "4                Bad              Sober  Disobey traffic signal        No   \n",
       "5               Good   Alcohol-impaired       Disobey stop sign       Yes   \n",
       "6               Good   Alcohol-impaired      Exceed speed limit       Yes   \n",
       "7                Bad   Alcohol-impaired                    None       Yes   \n",
       "8               Good              Sober  Disobey traffic signal       Yes   \n",
       "9               Good   Alcohol-impaired                    None        No   \n",
       "10               Bad              Sober  Disobey traffic signal        No   \n",
       "11              Good              Sober      Exceed speed limit       Yes   \n",
       "\n",
       "   Crash Severity  \n",
       "0           Minor  \n",
       "1           Minor  \n",
       "2           Minor  \n",
       "3           Major  \n",
       "4           Major  \n",
       "5           Minor  \n",
       "6           Major  \n",
       "7           Major  \n",
       "8           Major  \n",
       "9           Major  \n",
       "10          Major  \n",
       "11          Major  "
      ]
     },
     "execution_count": 177,
     "metadata": {},
     "output_type": "execute_result"
    }
   ],
   "source": [
    "import pandas as pd\n",
    "\n",
    "traffic_data = {'Weather Condition': {0: 'Bad',\n",
    "  1: 'Good',\n",
    "  2: 'Bad',\n",
    "  3: 'Good',\n",
    "  4: 'Bad',\n",
    "  5: 'Good',\n",
    "  6: 'Good',\n",
    "  7: 'Bad',\n",
    "  8: 'Good',\n",
    "  9: 'Good',\n",
    "  10: 'Bad',\n",
    "  11: 'Good'},\n",
    " \"Driver's Condition\": {0: 'Sober',\n",
    "  1: 'Sober',\n",
    "  2: 'Sober',\n",
    "  3: 'Alcohol-impaired',\n",
    "  4: 'Sober',\n",
    "  5: 'Alcohol-impaired',\n",
    "  6: 'Alcohol-impaired',\n",
    "  7: 'Alcohol-impaired',\n",
    "  8: 'Sober',\n",
    "  9: 'Alcohol-impaired',\n",
    "  10: 'Sober',\n",
    "  11: 'Sober'},\n",
    " 'Traffic Violation': {0: \"None\",\n",
    "  1: 'Disobey stop sign',\n",
    "  2: 'Disobey stop sign',\n",
    "  3: 'Exceed speed limit',\n",
    "  4: 'Disobey traffic signal',\n",
    "  5: 'Disobey stop sign',\n",
    "  6: 'Exceed speed limit',\n",
    "  7: \"None\",\n",
    "  8: 'Disobey traffic signal',\n",
    "  9: \"None\",\n",
    "  10: 'Disobey traffic signal',\n",
    "  11: 'Exceed speed limit'},\n",
    " 'Seat Belt': {0: 'Yes',\n",
    "  1: 'Yes',\n",
    "  2: 'Yes',\n",
    "  3: 'No',\n",
    "  4: 'No',\n",
    "  5: 'Yes',\n",
    "  6: 'Yes',\n",
    "  7: 'Yes',\n",
    "  8: 'Yes',\n",
    "  9: 'No',\n",
    "  10: 'No',\n",
    "  11: 'Yes'},\n",
    " 'Crash Severity': {0: 'Minor',\n",
    "  1: 'Minor',\n",
    "  2: 'Minor',\n",
    "  3: 'Major',\n",
    "  4: 'Major',\n",
    "  5: 'Minor',\n",
    "  6: 'Major',\n",
    "  7: 'Major',\n",
    "  8: 'Major',\n",
    "  9: 'Major',\n",
    "  10: 'Major',\n",
    "  11: 'Major'}}\n",
    "\n",
    "df = pd.DataFrame.from_dict(traffic_data)\n",
    "df"
   ]
  },
  {
   "cell_type": "code",
   "execution_count": 317,
   "metadata": {},
   "outputs": [],
   "source": [
    "import numpy as np\n",
    "from math import log, e\n",
    "\n",
    "def info(D):\n",
    "    if isinstance(D, pd.core.frame.DataFrame):\n",
    "        pi = D.div(D.sum(axis=1),axis=0)\n",
    "        return (-pi * np.log2(pi)).sum(axis=1)\n",
    "    elif isinstance(D, pd.core.series.Series):\n",
    "        pi = D / D.sum()\n",
    "        return (-pi * np.log2(pi)).sum()\n",
    "\n",
    "def info_A(D):\n",
    "    return (D.sum(axis=1).div(D.values.sum(),axis=0) * info(D)).sum()\n",
    "\n",
    "def split_info_A(D):\n",
    "    return -(D.sum(axis=1).div(D.values.sum(),axis=0) * np.log2(D.sum(axis=1).div(D.values.sum(),axis=0))).sum()\n",
    "\n",
    "def gain(A, D):\n",
    "    return info(D) - info_A(A)\n",
    "\n",
    "def gain_ratio(A, D):\n",
    "    return gain(A, D) / split_info_A(A)"
   ]
  },
  {
   "cell_type": "code",
   "execution_count": 324,
   "metadata": {},
   "outputs": [
    {
     "data": {
      "text/plain": [
       "0.9182958340544896"
      ]
     },
     "execution_count": 324,
     "metadata": {},
     "output_type": "execute_result"
    }
   ],
   "source": [
    "df0 = df[\"Seat Belt\"].value_counts()\n",
    "info(df0)"
   ]
  },
  {
   "cell_type": "code",
   "execution_count": 325,
   "metadata": {},
   "outputs": [
    {
     "data": {
      "text/plain": [
       "0.01045659223744103"
      ]
     },
     "execution_count": 325,
     "metadata": {},
     "output_type": "execute_result"
    }
   ],
   "source": [
    "df1 = df.groupby(\"Weather Condition\")[\"Seat Belt\"].value_counts().unstack().fillna(0)\n",
    "gain_ratio(df1, df0)"
   ]
  },
  {
   "cell_type": "code",
   "execution_count": 326,
   "metadata": {},
   "outputs": [
    {
     "data": {
      "text/plain": [
       "0.01045659223744103"
      ]
     },
     "execution_count": 326,
     "metadata": {},
     "output_type": "execute_result"
    }
   ],
   "source": [
    "df2 = df.groupby(\"Driver's Condition\")[\"Seat Belt\"].value_counts().unstack().fillna(0)\n",
    "gain_ratio(df2, df0)"
   ]
  },
  {
   "cell_type": "code",
   "execution_count": 327,
   "metadata": {},
   "outputs": [
    {
     "name": "stderr",
     "output_type": "stream",
     "text": [
      "/Users/derekthomas/.virtualenvs/csci-4502/lib/python3.7/site-packages/ipykernel_launcher.py:7: RuntimeWarning: divide by zero encountered in log2\n",
      "  import sys\n"
     ]
    },
    {
     "data": {
      "text/plain": [
       "0.1147869792568112"
      ]
     },
     "execution_count": 327,
     "metadata": {},
     "output_type": "execute_result"
    }
   ],
   "source": [
    "df3 = df.groupby(\"Traffic Violation\")[\"Seat Belt\"].value_counts().unstack().fillna(0)\n",
    "gain_ratio(df3, df0)"
   ]
  },
  {
   "cell_type": "code",
   "execution_count": 328,
   "metadata": {},
   "outputs": [
    {
     "name": "stderr",
     "output_type": "stream",
     "text": [
      "/Users/derekthomas/.virtualenvs/csci-4502/lib/python3.7/site-packages/ipykernel_launcher.py:7: RuntimeWarning: divide by zero encountered in log2\n",
      "  import sys\n"
     ]
    },
    {
     "data": {
      "text/plain": [
       "0.274017542121281"
      ]
     },
     "execution_count": 328,
     "metadata": {},
     "output_type": "execute_result"
    }
   ],
   "source": [
    "df4 = df.groupby(\"Crash Severity\")[\"Seat Belt\"].value_counts().unstack().fillna(0)\n",
    "gain_ratio(df4, df0)"
   ]
  },
  {
   "cell_type": "code",
   "execution_count": 371,
   "metadata": {},
   "outputs": [],
   "source": [
    "x = {\"Weather Condition\": \"Good\", \"Driver's Condition\": \"Sober\", \"Traffic Violation\": \"None\", \"Crash Severity\": \"Major\"}"
   ]
  },
  {
   "cell_type": "code",
   "execution_count": 374,
   "metadata": {},
   "outputs": [
    {
     "data": {
      "text/plain": [
       "Seat Belt\n",
       "No     0.020833\n",
       "Yes    0.065104\n",
       "dtype: float64"
      ]
     },
     "execution_count": 374,
     "metadata": {},
     "output_type": "execute_result"
    }
   ],
   "source": [
    "p = 1\n",
    "for k, v in x.items():\n",
    "   p *= df.groupby(\"Seat Belt\")[k].value_counts().unstack().fillna(0)[v] / df.groupby(\"Seat Belt\")[k].value_counts().unstack().fillna(0).sum(axis=1)\n",
    "p *= df[\"Seat Belt\"].value_counts() / df[\"Seat Belt\"].value_counts().sum()\n",
    "p"
   ]
  },
  {
   "cell_type": "code",
   "execution_count": 365,
   "metadata": {},
   "outputs": [
    {
     "data": {
      "text/html": [
       "<div>\n",
       "<style scoped>\n",
       "    .dataframe tbody tr th:only-of-type {\n",
       "        vertical-align: middle;\n",
       "    }\n",
       "\n",
       "    .dataframe tbody tr th {\n",
       "        vertical-align: top;\n",
       "    }\n",
       "\n",
       "    .dataframe thead th {\n",
       "        text-align: right;\n",
       "    }\n",
       "</style>\n",
       "<table border=\"1\" class=\"dataframe\">\n",
       "  <thead>\n",
       "    <tr style=\"text-align: right;\">\n",
       "      <th>Weather Condition</th>\n",
       "      <th>Bad</th>\n",
       "      <th>Good</th>\n",
       "    </tr>\n",
       "    <tr>\n",
       "      <th>Crash Severity</th>\n",
       "      <th></th>\n",
       "      <th></th>\n",
       "    </tr>\n",
       "  </thead>\n",
       "  <tbody>\n",
       "    <tr>\n",
       "      <td>Major</td>\n",
       "      <td>0.375</td>\n",
       "      <td>0.625</td>\n",
       "    </tr>\n",
       "    <tr>\n",
       "      <td>Minor</td>\n",
       "      <td>0.500</td>\n",
       "      <td>0.500</td>\n",
       "    </tr>\n",
       "  </tbody>\n",
       "</table>\n",
       "</div>"
      ],
      "text/plain": [
       "Weather Condition    Bad   Good\n",
       "Crash Severity                 \n",
       "Major              0.375  0.625\n",
       "Minor              0.500  0.500"
      ]
     },
     "execution_count": 365,
     "metadata": {},
     "output_type": "execute_result"
    }
   ],
   "source": [
    "df.groupby(\"Crash Severity\")[\"Weather Condition\"].value_counts().unstack().fillna(0).div(df.groupby(\"Crash Severity\")[\"Weather Condition\"].value_counts().unstack().fillna(0).sum(axis=1),axis=0)"
   ]
  },
  {
   "cell_type": "code",
   "execution_count": 346,
   "metadata": {},
   "outputs": [
    {
     "data": {
      "text/plain": [
       "Major    8\n",
       "Minor    4\n",
       "Name: Crash Severity, dtype: int64"
      ]
     },
     "execution_count": 346,
     "metadata": {},
     "output_type": "execute_result"
    }
   ],
   "source": [
    "df[\"Crash Severity\"].value_counts()"
   ]
  },
  {
   "cell_type": "code",
   "execution_count": null,
   "metadata": {},
   "outputs": [],
   "source": []
  }
 ],
 "metadata": {
  "kernelspec": {
   "display_name": "Python 3",
   "language": "python",
   "name": "python3"
  },
  "language_info": {
   "codemirror_mode": {
    "name": "ipython",
    "version": 3
   },
   "file_extension": ".py",
   "mimetype": "text/x-python",
   "name": "python",
   "nbconvert_exporter": "python",
   "pygments_lexer": "ipython3",
   "version": "3.7.4"
  }
 },
 "nbformat": 4,
 "nbformat_minor": 2
}
